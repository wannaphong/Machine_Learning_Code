{
 "cells": [
  {
   "cell_type": "markdown",
   "metadata": {},
   "source": [
    "# Neural Network\n",
    "\n",
    "โครงข่ายประสาทเทียมเป็นการจำลองการทำงานของระบบเครือข่ายประสาทของมนุษย์ให้กลายเป็นรูปแบบฟังก์ชันตามคณิตศาสตร์ แม้ว่าโครงข่ายประสาทกับโครงข่ายประสาทจะแตกต่างกัน แต่การทำงานมีลักษณะคล้ายกัน"
   ]
  },
  {
   "cell_type": "markdown",
   "metadata": {},
   "source": [
    "เราจะมาสร้างโครงข่ายประสาทเทียมแบบง่าย ๆ ด้วย numpy ใน python กัน"
   ]
  },
  {
   "cell_type": "markdown",
   "metadata": {},
   "source": [
    "## Import"
   ]
  },
  {
   "cell_type": "code",
   "execution_count": 1,
   "metadata": {},
   "outputs": [],
   "source": [
    "import numpy as np\n",
    "import matplotlib.pyplot as plt\n",
    "from tqdm import tqdm\n",
    "%matplotlib inline"
   ]
  },
  {
   "cell_type": "markdown",
   "metadata": {},
   "source": [
    "## Train Data"
   ]
  },
  {
   "cell_type": "code",
   "execution_count": 2,
   "metadata": {},
   "outputs": [],
   "source": [
    "import numpy as np\n",
    "feature_set = np.array([[0,1,0],[0,0,1],[1,0,0],[1,1,0],[1,1,1]])\n",
    "labels = np.array([[1,0,0,1,1]]).T"
   ]
  },
  {
   "cell_type": "code",
   "execution_count": 3,
   "metadata": {},
   "outputs": [
    {
     "data": {
      "text/plain": [
       "array([[1],\n",
       "       [0],\n",
       "       [0],\n",
       "       [1],\n",
       "       [1]])"
      ]
     },
     "execution_count": 3,
     "metadata": {},
     "output_type": "execute_result"
    }
   ],
   "source": [
    "labels"
   ]
  },
  {
   "cell_type": "markdown",
   "metadata": {},
   "source": [
    "## สร้าง weights และ bias\n",
    "\n",
    "เราจะใช้ฟังก์ชันของ numpy ในการสร้าง weights และ bias ด้วยฟังก์ชัน np.random.rand()\n",
    "\n",
    "ฟังก์ชัน np.random.rand() เป็นฟังก์ชันใช้สร้าง array จากค่าสุ่มระหว่าง 0 ถึง 1 หากใส่มิติลงไป จะสร้าง array จากการสุ่ม ตาม แถว*หลัก"
   ]
  },
  {
   "cell_type": "markdown",
   "metadata": {},
   "source": [
    "### Layer 1"
   ]
  },
  {
   "cell_type": "code",
   "execution_count": 4,
   "metadata": {},
   "outputs": [],
   "source": [
    "np.random.seed(42)\n",
    "weights1 = np.random.rand(3,8)\n",
    "bias1 = float(np.random.rand(1))\n",
    "lr = 0.05"
   ]
  },
  {
   "cell_type": "code",
   "execution_count": 5,
   "metadata": {},
   "outputs": [
    {
     "name": "stdout",
     "output_type": "stream",
     "text": [
      "[[0.37454012 0.95071431 0.73199394 0.59865848 0.15601864 0.15599452\n",
      "  0.05808361 0.86617615]\n",
      " [0.60111501 0.70807258 0.02058449 0.96990985 0.83244264 0.21233911\n",
      "  0.18182497 0.18340451]\n",
      " [0.30424224 0.52475643 0.43194502 0.29122914 0.61185289 0.13949386\n",
      "  0.29214465 0.36636184]]\n",
      "0.45606998421703593\n"
     ]
    }
   ],
   "source": [
    "print(weights1)\n",
    "print(bias1)"
   ]
  },
  {
   "cell_type": "code",
   "execution_count": 6,
   "metadata": {},
   "outputs": [
    {
     "data": {
      "text/plain": [
       "0.7851759613930136"
      ]
     },
     "execution_count": 6,
     "metadata": {},
     "output_type": "execute_result"
    }
   ],
   "source": [
    "float(np.random.rand(1))"
   ]
  },
  {
   "cell_type": "markdown",
   "metadata": {},
   "source": [
    "### Layer 2"
   ]
  },
  {
   "cell_type": "code",
   "execution_count": 7,
   "metadata": {},
   "outputs": [
    {
     "name": "stdout",
     "output_type": "stream",
     "text": [
      "[[0.19967378]\n",
      " [0.51423444]\n",
      " [0.59241457]\n",
      " [0.04645041]\n",
      " [0.60754485]\n",
      " [0.17052412]\n",
      " [0.06505159]\n",
      " [0.94888554]]\n",
      "0.9656320330745594\n"
     ]
    }
   ],
   "source": [
    "weights2 = np.random.rand(8,1)\n",
    "bias2 =float(np.random.rand(1))\n",
    "print(weights2)\n",
    "print(bias2)"
   ]
  },
  {
   "cell_type": "markdown",
   "metadata": {},
   "source": [
    "## Activation function\n",
    "\n",
    "แบ่งออกได้เป็น 2 ชนิด\n",
    "\n",
    "1. Linear Activation function ex A=cX\n",
    "2. Non-Linear Activation function ex Sigmoid, ReLU ..."
   ]
  },
  {
   "cell_type": "code",
   "execution_count": 8,
   "metadata": {},
   "outputs": [],
   "source": [
    "def sigmoid(x):\n",
    "    return 1/(1+np.exp(-x))"
   ]
  },
  {
   "cell_type": "code",
   "execution_count": 9,
   "metadata": {},
   "outputs": [],
   "source": [
    "def sigmoid_der(x):\n",
    "    return sigmoid(x)*(1-sigmoid(x))"
   ]
  },
  {
   "cell_type": "markdown",
   "metadata": {},
   "source": [
    "## จำนวนรอบในการ train"
   ]
  },
  {
   "cell_type": "code",
   "execution_count": 10,
   "metadata": {},
   "outputs": [],
   "source": [
    "ep=10000"
   ]
  },
  {
   "cell_type": "markdown",
   "metadata": {},
   "source": [
    "## Train\n",
    "\n",
    "ANN เราประกอบไปด้วย feedforward (แพร่ไปข้างหน้าจาก X ไป Y ตาม  layer แต่ละ layer) จากสมการ Y_hat = F(X) + B ในที่นี้ F(x) = WX\n",
    "\n",
    "โดย\n",
    "\n",
    "- X เป็นข้อมูล X\n",
    "- Y เป็นข้อมูล target ที่ต้องการ\n",
    "- Y_hat เป็นผลลัพธ์ที่ได้จากแต่ละ layer\n",
    "- F(X) เป็นฟังก์ชัน\n",
    "- W เป็น weights หรือ ค่าน้ำหนัก\n",
    "- B เป็น bias\n",
    "\n",
    "ไม่จำเป็นต้องเป็น wx+b เสมอไป โดยเป็นอะไรก็ได้ที่หา derivative ได้ - พี่ชารินทร์\n",
    "\n",
    "พอ feedforward มาจนถึง output layer แล้ว เราจะหา Loss หรือค่าความผิดพลาดจาก ANN ในที่นี้ เราจะใช้สมการ loss = y_hat - y\n",
    "\n",
    "โดย\n",
    "\n",
    "- y_hat คือ ผลลัพธ์ที่ได้จาก output layer\n",
    "- y เป็นข้อมูลผลเฉลย\n",
    "\n",
    "เสร็จแล้วเราจะมาใช้ back-propagation กัน"
   ]
  },
  {
   "cell_type": "markdown",
   "metadata": {},
   "source": [
    "back-propagation เป็นกระบวนการปรับปรุง weights และ bias แต่ละ layer โดยอาศัยหลักการของ gradient descent method เพื่อให้ความผิดพลาดน้อยที่สุด"
   ]
  },
  {
   "cell_type": "code",
   "execution_count": 11,
   "metadata": {},
   "outputs": [],
   "source": [
    "errors=[]"
   ]
  },
  {
   "cell_type": "code",
   "execution_count": 12,
   "metadata": {},
   "outputs": [
    {
     "name": "stderr",
     "output_type": "stream",
     "text": [
      "100%|██████████████████████████████████████████████████████████████████████████| 10000/10000 [00:01<00:00, 5932.19it/s]\n"
     ]
    }
   ],
   "source": [
    "for epoch in tqdm(range(ep)):\n",
    "    inputs = feature_set\n",
    "    # 1 layer\n",
    "    #feedforward\n",
    "    layer1 = sigmoid(np.dot(inputs, weights1) + bias1)\n",
    "    # 2 layer\n",
    "    layer2 = sigmoid(np.dot(layer1, weights2) + bias2)\n",
    "    # backpropagation step 1\n",
    "    error = layer2 - labels\n",
    "    #print(error.sum())\n",
    "    errors.append(error.sum())\n",
    "    # backpropagation step 2\n",
    "    layer2_delta = error * sigmoid_der(layer2)\n",
    "    layer1_delta = layer2_delta.dot(weights2.T) * sigmoid_der(layer1)\n",
    "    weights2 -= lr * layer1.T.dot(layer2_delta)\n",
    "    weights1 -= lr * inputs.T.dot(layer1_delta)\n",
    "    for num in layer2_delta:\n",
    "        bias2 -= lr * num\n",
    "    for num in layer1_delta:\n",
    "        bias1 -= lr * num"
   ]
  },
  {
   "cell_type": "code",
   "execution_count": 13,
   "metadata": {},
   "outputs": [
    {
     "data": {
      "image/png": "[encoded data removed]",
      "text/plain": [
       "<Figure size 432x288 with 1 Axes>"
      ]
     },
     "metadata": {
      "needs_background": "light"
     },
     "output_type": "display_data"
    }
   ],
   "source": [
    "plt.plot(errors)\n",
    "plt.xlabel('Training')\n",
    "plt.ylabel('Error')\n",
    "plt.show()"
   ]
  },
  {
   "cell_type": "markdown",
   "metadata": {},
   "source": [
    "## ทำนาย"
   ]
  },
  {
   "cell_type": "code",
   "execution_count": 14,
   "metadata": {},
   "outputs": [
    {
     "name": "stdout",
     "output_type": "stream",
     "text": [
      "[0.99749269]\n"
     ]
    }
   ],
   "source": [
    "single_point = np.array([0,1,0])\n",
    "result = sigmoid(np.dot(single_point, weights1) + bias1)\n",
    "result = sigmoid(np.dot(result, weights2) + bias2)\n",
    "print(result)"
   ]
  },
  {
   "cell_type": "markdown",
   "metadata": {},
   "source": [
    "จะเห็นได้ว่า หากต้องการทำนายข้อมูลจาก ANN ให้ใช้ feedforward แบบที่ใช้ในการ train"
   ]
  },
  {
   "cell_type": "code",
   "execution_count": null,
   "metadata": {},
   "outputs": [],
   "source": []
  }
 ],
 "metadata": {
  "kernelspec": {
   "display_name": "Python 3",
   "language": "python",
   "name": "python3"
  },
  "language_info": {
   "codemirror_mode": {
    "name": "ipython",
    "version": 3
   },
   "file_extension": ".py",
   "mimetype": "text/x-python",
   "name": "python",
   "nbconvert_exporter": "python",
   "pygments_lexer": "ipython3",
   "version": "3.7.3"
  }
 },
 "nbformat": 4,
 "nbformat_minor": 2
}
