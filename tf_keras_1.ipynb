{
  "nbformat": 4,
  "nbformat_minor": 0,
  "metadata": {
    "colab": {
      "name": "tf-keras-1.ipynb",
      "version": "0.3.2",
      "provenance": [],
      "collapsed_sections": [],
      "include_colab_link": true
    },
    "kernelspec": {
      "name": "python3",
      "display_name": "Python 3"
    }
  },
  "cells": [
    {
      "cell_type": "markdown",
      "metadata": {
        "id": "view-in-github",
        "colab_type": "text"
      },
      "source": [
        "<a href=\"https://colab.research.google.com/github/wannaphongcom/Machine_Learning_Code/blob/master/tf_keras_1.ipynb\" target=\"_parent\"><img src=\"https://colab.research.google.com/assets/colab-badge.svg\" alt=\"Open In Colab\"/></a>"
      ]
    },
    {
      "cell_type": "markdown",
      "metadata": {
        "id": "LdwbRWAU06P8",
        "colab_type": "text"
      },
      "source": [
        "# Deep leraning 100 days\n",
        "\n",
        "I do from https://youtu.be/p69khggr1Jo but I use tf.keras instead numpy.\n",
        "\n",
        "12/6/2019"
      ]
    },
    {
      "cell_type": "code",
      "metadata": {
        "id": "GcJkd8PtxeRk",
        "colab_type": "code",
        "colab": {}
      },
      "source": [
        "import tensorflow as tf"
      ],
      "execution_count": 0,
      "outputs": []
    },
    {
      "cell_type": "code",
      "metadata": {
        "id": "akYODxEMxyD3",
        "colab_type": "code",
        "colab": {}
      },
      "source": [
        "from tensorflow.keras import layers"
      ],
      "execution_count": 0,
      "outputs": []
    },
    {
      "cell_type": "code",
      "metadata": {
        "id": "MP4TjmScx7YE",
        "colab_type": "code",
        "colab": {}
      },
      "source": [
        "import numpy as np"
      ],
      "execution_count": 0,
      "outputs": []
    },
    {
      "cell_type": "code",
      "metadata": {
        "id": "IrBLBFK9x-Qm",
        "colab_type": "code",
        "colab": {}
      },
      "source": [
        "train_input=np.array([[0,0,1],[1,1,1],[1,0,1],[0,1,1]])\n",
        "train_output=np.array([0,1,1,0]).T"
      ],
      "execution_count": 0,
      "outputs": []
    },
    {
      "cell_type": "code",
      "metadata": {
        "id": "USUcH--pyZYO",
        "colab_type": "code",
        "colab": {}
      },
      "source": [
        "model = tf.keras.Sequential()\n",
        "model.add(layers.Dense(3, activation='softmax'))\n",
        "model.add(layers.Dense(1, activation='softmax'))\n"
      ],
      "execution_count": 0,
      "outputs": []
    },
    {
      "cell_type": "code",
      "metadata": {
        "id": "Z3X2fQFwy8PL",
        "colab_type": "code",
        "colab": {}
      },
      "source": [
        "model.compile(optimizer=tf.train.AdamOptimizer(),\n",
        "              loss='categorical_crossentropy',\n",
        "              metrics=['accuracy'])"
      ],
      "execution_count": 0,
      "outputs": []
    },
    {
      "cell_type": "code",
      "metadata": {
        "id": "cMb9sek0y_zH",
        "colab_type": "code",
        "colab": {
          "base_uri": "https://localhost:8080/",
          "height": 413
        },
        "outputId": "7e1fc946-6c62-4fd8-def0-e0d5efe0ec77"
      },
      "source": [
        "model.fit(train_input, train_output, epochs=10)"
      ],
      "execution_count": 45,
      "outputs": [
        {
          "output_type": "stream",
          "text": [
            "Epoch 1/10\n",
            "4/4 [==============================] - 0s 25ms/sample - loss: 5.9605e-08 - acc: 0.5000\n",
            "Epoch 2/10\n",
            "4/4 [==============================] - 0s 637us/sample - loss: 5.9605e-08 - acc: 0.5000\n",
            "Epoch 3/10\n",
            "4/4 [==============================] - 0s 432us/sample - loss: 5.9605e-08 - acc: 0.5000\n",
            "Epoch 4/10\n",
            "4/4 [==============================] - 0s 621us/sample - loss: 5.9605e-08 - acc: 0.5000\n",
            "Epoch 5/10\n",
            "4/4 [==============================] - 0s 481us/sample - loss: 5.9605e-08 - acc: 0.5000\n",
            "Epoch 6/10\n",
            "4/4 [==============================] - 0s 493us/sample - loss: 5.9605e-08 - acc: 0.5000\n",
            "Epoch 7/10\n",
            "4/4 [==============================] - 0s 545us/sample - loss: 5.9605e-08 - acc: 0.5000\n",
            "Epoch 8/10\n",
            "4/4 [==============================] - 0s 491us/sample - loss: 5.9605e-08 - acc: 0.5000\n",
            "Epoch 9/10\n",
            "4/4 [==============================] - 0s 516us/sample - loss: 5.9605e-08 - acc: 0.5000\n",
            "Epoch 10/10\n",
            "4/4 [==============================] - 0s 455us/sample - loss: 5.9605e-08 - acc: 0.5000\n"
          ],
          "name": "stdout"
        },
        {
          "output_type": "execute_result",
          "data": {
            "text/plain": [
              "<tensorflow.python.keras.callbacks.History at 0x7f6456d3aeb8>"
            ]
          },
          "metadata": {
            "tags": []
          },
          "execution_count": 45
        }
      ]
    },
    {
      "cell_type": "code",
      "metadata": {
        "id": "0ILR2x5uzJan",
        "colab_type": "code",
        "colab": {
          "base_uri": "https://localhost:8080/",
          "height": 36
        },
        "outputId": "fa67e217-7543-42fd-d42d-c7f61b3ac697"
      },
      "source": [
        "model.predict(np.array([[1,0,0]]))"
      ],
      "execution_count": 46,
      "outputs": [
        {
          "output_type": "execute_result",
          "data": {
            "text/plain": [
              "array([[1.]], dtype=float32)"
            ]
          },
          "metadata": {
            "tags": []
          },
          "execution_count": 46
        }
      ]
    }
  ]
}